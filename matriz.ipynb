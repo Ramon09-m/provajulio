{
  "nbformat": 4,
  "nbformat_minor": 0,
  "metadata": {
    "colab": {
      "provenance": []
    },
    "kernelspec": {
      "name": "python3",
      "display_name": "Python 3"
    },
    "language_info": {
      "name": "python"
    }
  },
  "cells": [
    {
      "cell_type": "code",
      "execution_count": 9,
      "metadata": {
        "colab": {
          "base_uri": "https://localhost:8080/"
        },
        "id": "pxYQivq5uSU9",
        "outputId": "a3cf6b42-bf31-470d-85dd-0a9c8d4d1ec0"
      },
      "outputs": [
        {
          "output_type": "stream",
          "name": "stdout",
          "text": [
            "A média da linha 0 é 46.5\n",
            "A média da linha 1 é 48.0\n",
            "A média da linha 2 é 37.5\n",
            "A média da linha 3 é 43.0\n"
          ]
        }
      ],
      "source": [
        "import numpy as np\n",
        "uso_cpu = np.array([\n",
        "[20, 25, 40, 50, 45, 60, 55, 35, 70, 65],\n",
        "[30, 35, 50, 60, 40, 55, 60, 45, 50, 55],\n",
        "[15, 20, 30, 25, 35, 40, 45, 50, 55, 60],\n",
        "[10, 15, 25, 35, 45, 50, 55, 60, 65, 70],\n",
        "])\n",
        "\n",
        "def mediaporlinha(uso):\n",
        "  soma = 0\n",
        "  media = 0\n",
        "  for i in range(uso.shape[0]):\n",
        "    soma = 0\n",
        "    media = 0\n",
        "    cont = 0\n",
        "    for l in range(uso.shape[1]):\n",
        "      soma += uso[i][l]\n",
        "      cont += 1\n",
        "    media = soma/cont\n",
        "    print(f'A média da linha {i} é {round(media, 2)}')\n",
        "\n",
        "mediaporlinha(uso_cpu)"
      ]
    }
  ]
}