{
  "nbformat": 4,
  "nbformat_minor": 0,
  "metadata": {
    "colab": {
      "provenance": []
    },
    "kernelspec": {
      "name": "python3",
      "display_name": "Python 3"
    },
    "language_info": {
      "name": "python"
    }
  },
  "cells": [
    {
      "cell_type": "code",
      "execution_count": 33,
      "metadata": {
        "colab": {
          "base_uri": "https://localhost:8080/"
        },
        "id": "pxYQivq5uSU9",
        "outputId": "9c5b97f2-f866-480a-9177-5c68c7571a72"
      },
      "outputs": [
        {
          "output_type": "execute_result",
          "data": {
            "text/plain": [
              "array([[20, 25, 40, 45, 50, 55, 60, 65, 70, 70],\n",
              "       [30, 35, 40, 45, 50, 50, 55, 55, 60, 60],\n",
              "       [15, 20, 25, 30, 35, 40, 45, 50, 55, 60],\n",
              "       [10, 15, 25, 35, 45, 50, 55, 60, 65, 70]])"
            ]
          },
          "metadata": {},
          "execution_count": 33
        }
      ],
      "source": [
        "import numpy as np\n",
        "uso_cpu = np.array([\n",
        "[20, 25, 40, 50, 45, 60, 55, 70, 70, 65],\n",
        "[30, 35, 50, 60, 40, 55, 60, 45, 50, 55],\n",
        "[15, 20, 30, 25, 35, 40, 45, 50, 55, 60],\n",
        "[10, 15, 25, 35, 45, 50, 55, 60, 65, 70],\n",
        "])\n",
        "\n",
        "def crescente(uso):\n",
        "  for i in range(uso.shape[0]):\n",
        "    uso[i].sort()\n",
        "\n",
        "\n",
        "  return uso\n",
        "\n",
        "\n",
        "crescente(uso_cpu)"
      ]
    }
  ]
}