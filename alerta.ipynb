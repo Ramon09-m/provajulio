{
  "nbformat": 4,
  "nbformat_minor": 0,
  "metadata": {
    "colab": {
      "provenance": []
    },
    "kernelspec": {
      "name": "python3",
      "display_name": "Python 3"
    },
    "language_info": {
      "name": "python"
    }
  },
  "cells": [
    {
      "cell_type": "code",
      "execution_count": 18,
      "metadata": {
        "colab": {
          "base_uri": "https://localhost:8080/"
        },
        "id": "pxYQivq5uSU9",
        "outputId": "470d5cc2-b0dd-4c49-a6be-c0939bd28f45"
      },
      "outputs": [
        {
          "output_type": "execute_result",
          "data": {
            "text/plain": [
              "False"
            ]
          },
          "metadata": {},
          "execution_count": 18
        }
      ],
      "source": [
        "import numpy as np\n",
        "uso_cpu = np.array([\n",
        "[20, 25, 40, 50, 45, 60, 55, 70, 70, 65],\n",
        "[30, 35, 50, 60, 40, 55, 60, 45, 50, 55],\n",
        "[15, 20, 30, 25, 35, 40, 45, 50, 55, 60],\n",
        "[10, 15, 25, 35, 45, 50, 55, 60, 65, 70],\n",
        "])\n",
        "\n",
        "def Alerta_uso(uso):\n",
        "  for i in range(uso.shape[0]):\n",
        "    for l in range(uso.shape[1]):\n",
        "       if (85 <= uso[i][l]) == True:\n",
        "          return True\n",
        "\n",
        "  return False\n",
        "\n",
        "\n",
        "Alerta_uso(uso_cpu)"
      ]
    }
  ]
}